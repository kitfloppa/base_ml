{
 "cells": [
  {
   "cell_type": "markdown",
   "id": "64acc7fb-59de-4ebc-b82f-afb53cc852d2",
   "metadata": {
    "jp-MarkdownHeadingCollapsed": true
   },
   "source": [
    "# Imports"
   ]
  },
  {
   "cell_type": "code",
   "execution_count": 274,
   "id": "3379e5ef-2708-48c0-a8ed-95eda57a8aea",
   "metadata": {},
   "outputs": [],
   "source": [
    "import numpy as np\n",
    "import pandas as pd\n",
    "import transformers\n",
    "import tensorflow as tf\n",
    "import tensorflow_probability as tfp\n",
    "import tqdm.notebook as tqdm\n",
    "import sklearn.model_selection\n",
    "import matplotlib.pyplot as plt\n",
    "\n",
    "from sklearn.metrics import d2_tweedie_score"
   ]
  },
  {
   "cell_type": "markdown",
   "id": "3588f5af-a33c-4638-90d8-5cb912535790",
   "metadata": {
    "jp-MarkdownHeadingCollapsed": true
   },
   "source": [
    "# Data"
   ]
  },
  {
   "cell_type": "markdown",
   "id": "c468a19b-1395-4afc-b0c5-a799160ea671",
   "metadata": {},
   "source": [
    "Load and prepare your dataset. Dataset should have at least 10k samples in it. Each dataset cannot be used by more than two students.\n",
    "\n",
    "I took a large dataset of Android apps that provides insight into the types of feedback that users report.\n",
    "\n",
    "Dataset: https://huggingface.co/datasets/app_reviews"
   ]
  },
  {
   "cell_type": "code",
   "execution_count": 275,
   "id": "27724773-5172-4a0f-87ab-6878341a7ab9",
   "metadata": {},
   "outputs": [],
   "source": [
    "from datasets import load_dataset\n",
    "\n",
    "data = load_dataset('app_reviews', split='train')"
   ]
  },
  {
   "cell_type": "code",
   "execution_count": 3,
   "metadata": {},
   "outputs": [
    {
     "data": {
      "text/plain": [
       "Dataset({\n",
       "    features: ['package_name', 'review', 'date', 'star'],\n",
       "    num_rows: 288065\n",
       "})"
      ]
     },
     "execution_count": 3,
     "metadata": {},
     "output_type": "execute_result"
    }
   ],
   "source": [
    "data"
   ]
  },
  {
   "cell_type": "markdown",
   "id": "714bddcc-c56d-4e61-9147-054f5d7f8e7e",
   "metadata": {
    "jp-MarkdownHeadingCollapsed": true
   },
   "source": [
    "# Backbone"
   ]
  },
  {
   "cell_type": "markdown",
   "id": "c21a2f49-08a6-479a-8db7-a52d4db40d56",
   "metadata": {},
   "source": [
    "Load pretrained model from Hugging Face (or some other model repository if it's more convenient). Model should be trained on Feature Extraction task.\n",
    "\n",
    "I got the following model: https://huggingface.co/SamLowe/roberta-base-go_emotions"
   ]
  },
  {
   "cell_type": "code",
   "execution_count": 5,
   "id": "d111bc81-dfb4-47fb-b3d8-42388b84a8cc",
   "metadata": {},
   "outputs": [
    {
     "name": "stderr",
     "output_type": "stream",
     "text": [
      "Some weights of the PyTorch model were not used when initializing the TF 2.0 model TFRobertaModel: ['classifier.out_proj.bias', 'classifier.dense.bias', 'roberta.embeddings.position_ids', 'classifier.dense.weight', 'classifier.out_proj.weight']\n",
      "- This IS expected if you are initializing TFRobertaModel from a PyTorch model trained on another task or with another architecture (e.g. initializing a TFBertForSequenceClassification model from a BertForPreTraining model).\n",
      "- This IS NOT expected if you are initializing TFRobertaModel from a PyTorch model that you expect to be exactly identical (e.g. initializing a TFBertForSequenceClassification model from a BertForSequenceClassification model).\n",
      "Some weights or buffers of the TF 2.0 model TFRobertaModel were not initialized from the PyTorch model and are newly initialized: ['roberta.pooler.dense.weight', 'roberta.pooler.dense.bias']\n",
      "You should probably TRAIN this model on a down-stream task to be able to use it for predictions and inference.\n",
      "Some weights or buffers of the TF 2.0 model TFRobertaModel were not initialized from the PyTorch model and are newly initialized: ['roberta.pooler.dense.weight', 'roberta.pooler.dense.bias']\n",
      "You should probably TRAIN this model on a down-stream task to be able to use it for predictions and inference.\n"
     ]
    }
   ],
   "source": [
    "backbone = transformers.TFAutoModel.from_pretrained('SamLowe/roberta-base-go_emotions')"
   ]
  },
  {
   "cell_type": "code",
   "execution_count": 6,
   "metadata": {},
   "outputs": [
    {
     "name": "stdout",
     "output_type": "stream",
     "text": [
      "Model: \"tf_roberta_model_1\"\n",
      "_________________________________________________________________\n",
      " Layer (type)                Output Shape              Param #   \n",
      "=================================================================\n",
      " roberta (TFRobertaMainLaye  multiple                  124645632 \n",
      " r)                                                              \n",
      "                                                                 \n",
      "=================================================================\n",
      "Total params: 124645632 (475.49 MB)\n",
      "_________________________________________________________________\n",
      " Layer (type)                Output Shape              Param #   \n",
      "=================================================================\n",
      " roberta (TFRobertaMainLaye  multiple                  124645632 \n",
      " r)                                                              \n",
      "                                                                 \n",
      "=================================================================\n",
      "Total params: 124645632 (475.49 MB)\n",
      "Trainable params: 124645632 (475.49 MB)\n",
      "Non-trainable params: 0 (0.00 Byte)\n",
      "_________________________________________________________________\n"
     ]
    }
   ],
   "source": [
    "backbone.summary()"
   ]
  },
  {
   "cell_type": "markdown",
   "id": "4b81337a-c06e-4b33-9dff-61ff0c6858c9",
   "metadata": {},
   "source": [
    "Load tokenizer to be used with the model"
   ]
  },
  {
   "cell_type": "code",
   "execution_count": 7,
   "id": "4c7e98fb-a356-463d-a856-9b011efdcca1",
   "metadata": {},
   "outputs": [],
   "source": [
    "tokenizer = transformers.AutoTokenizer.from_pretrained('SamLowe/roberta-base-go_emotions')"
   ]
  },
  {
   "cell_type": "markdown",
   "id": "c045f3c1-faf9-41fc-af88-a4f49c97ac13",
   "metadata": {
    "jp-MarkdownHeadingCollapsed": true
   },
   "source": [
    "# Feature extraction"
   ]
  },
  {
   "cell_type": "markdown",
   "id": "1025d0d6-3b43-440a-8791-27b3e208e415",
   "metadata": {},
   "source": [
    "Since we will not be training the backbone, extract features from your dataset."
   ]
  },
  {
   "cell_type": "markdown",
   "id": "75fb0bf5-6e28-49fa-a0c3-e5b3fd51e7f7",
   "metadata": {},
   "source": [
    "Tokenize all your sequences. Truncate/pad the squences for convenience. If the sequences are too large to be stored in memory, lazily save them on disk."
   ]
  },
  {
   "cell_type": "markdown",
   "id": "4a2b4b64-ee2e-4a2a-8d81-161f8bf1aae4",
   "metadata": {},
   "source": [
    "Run the backbone on the sequences and save the extracted features. The extracted features should be a vector containing information about the whole text. If the features are too large to be stored in memory, lazily save them on disk."
   ]
  },
  {
   "cell_type": "code",
   "execution_count": 8,
   "metadata": {},
   "outputs": [
    {
     "data": {
      "application/vnd.jupyter.widget-view+json": {
       "model_id": "d2c31f64ff134db79007b1b596b9b5db",
       "version_major": 2,
       "version_minor": 0
      },
      "text/plain": [
       "  0%|          | 0/288065 [00:00<?, ?it/s]"
      ]
     },
     "metadata": {},
     "output_type": "display_data"
    },
    {
     "name": "stderr",
     "output_type": "stream",
     "text": [
      "Token indices sequence length is longer than the specified maximum sequence length for this model (617 > 512). Running this sequence through the model will result in indexing errors\n"
     ]
    }
   ],
   "source": [
    "tokenize_seq = []\n",
    "\n",
    "for text in tqdm.tqdm(data['review']):\n",
    "    tokenize_seq.append(tokenizer(text))"
   ]
  },
  {
   "cell_type": "code",
   "execution_count": 9,
   "metadata": {},
   "outputs": [
    {
     "data": {
      "text/plain": [
       "(array([2.84771e+05, 3.01800e+03, 2.00000e+02, 3.50000e+01, 1.70000e+01,\n",
       "        1.60000e+01, 4.00000e+00, 3.00000e+00, 0.00000e+00, 1.00000e+00]),\n",
       " array([   3. ,  105.1,  207.2,  309.3,  411.4,  513.5,  615.6,  717.7,\n",
       "         819.8,  921.9, 1024. ]),\n",
       " <BarContainer object of 10 artists>)"
      ]
     },
     "execution_count": 9,
     "metadata": {},
     "output_type": "execute_result"
    },
    {
     "data": {
      "image/png": "[encoded data removed]",
      "text/plain": [
       "<Figure size 640x480 with 1 Axes>"
      ]
     },
     "metadata": {},
     "output_type": "display_data"
    }
   ],
   "source": [
    "plt.hist([len(i['input_ids']) for i in tokenize_seq])"
   ]
  },
  {
   "cell_type": "code",
   "execution_count": 144,
   "metadata": {},
   "outputs": [],
   "source": [
    "X = tf.keras.preprocessing.sequence.pad_sequences([i['input_ids'] for i in tokenize_seq], maxlen=128, truncating='post', padding='post', value=tokenizer.pad_token_id)\n",
    "lable_to_id = { j: i for i, j in enumerate(np.sort(np.unique(data['star'])))}\n",
    "y = [lable_to_id[i] + 1 for i in data['star']]\n",
    "text_dataset = tf.data.Dataset.from_tensor_slices(X).batch(64)"
   ]
  },
  {
   "cell_type": "code",
   "execution_count": 11,
   "metadata": {},
   "outputs": [
    {
     "data": {
      "application/vnd.jupyter.widget-view+json": {
       "model_id": "a775cb10bfbf485b8803f0fc35b26540",
       "version_major": 2,
       "version_minor": 0
      },
      "text/plain": [
       "  0%|          | 0/4502 [00:00<?, ?it/s]"
      ]
     },
     "metadata": {},
     "output_type": "display_data"
    }
   ],
   "source": [
    "features = []\n",
    "\n",
    "for data in tqdm.tqdm(text_dataset):\n",
    "    features.extend(tf.math.reduce_mean(backbone(data).last_hidden_state, axis=1))\n",
    "\n",
    "features = np.array(features)"
   ]
  },
  {
   "cell_type": "markdown",
   "id": "2543fcff-46b0-4c05-b297-c3102f998205",
   "metadata": {
    "jp-MarkdownHeadingCollapsed": true
   },
   "source": [
    "# Prepare train/test data"
   ]
  },
  {
   "cell_type": "markdown",
   "id": "2c985c7d-9123-477e-9988-15ff5a7b26eb",
   "metadata": {},
   "source": [
    "Split your data (extracted features and labels) into train and test subsets."
   ]
  },
  {
   "cell_type": "code",
   "execution_count": 145,
   "id": "5460c05a-f5e7-4935-a6ff-074ca21fa01b",
   "metadata": {},
   "outputs": [],
   "source": [
    "X_train, X_test, y_train, y_test = sklearn.model_selection.train_test_split(features, y)"
   ]
  },
  {
   "cell_type": "code",
   "execution_count": 146,
   "metadata": {},
   "outputs": [],
   "source": [
    "y_train = np.array(y_train).astype(float)\n",
    "y_test = np.array(y_test).astype(float)"
   ]
  },
  {
   "cell_type": "markdown",
   "id": "b1a65639-50d0-4f89-8bfe-33b7a483e406",
   "metadata": {},
   "source": [
    "Prepare `tf.data.Dataset` or some other way for the data to be used during training."
   ]
  },
  {
   "cell_type": "code",
   "execution_count": 148,
   "id": "07849c2e-c7d1-4620-9590-962fa554ed8f",
   "metadata": {},
   "outputs": [],
   "source": [
    "X_train_dataset = tf.data.Dataset.from_tensor_slices(X_train)\n",
    "X_test_dataset = tf.data.Dataset.from_tensor_slices(X_test)\n",
    "y_train_dataset = tf.data.Dataset.from_tensor_slices(y_train)\n",
    "y_test_dataset = tf.data.Dataset.from_tensor_slices(y_test)"
   ]
  },
  {
   "cell_type": "code",
   "execution_count": 149,
   "metadata": {},
   "outputs": [],
   "source": [
    "train_dataset = tf.data.Dataset.zip((X_train_dataset, y_train_dataset)).batch(256)\n",
    "test_dataset = tf.data.Dataset.zip((X_test_dataset, y_test_dataset)).batch(256)"
   ]
  },
  {
   "cell_type": "markdown",
   "id": "e8f74abd-ce1a-4a68-be6c-89b1abd0caa5",
   "metadata": {
    "jp-MarkdownHeadingCollapsed": true
   },
   "source": [
    "# Build the model"
   ]
  },
  {
   "cell_type": "markdown",
   "id": "78885e31-c91e-4ee5-acbf-00a107069da9",
   "metadata": {},
   "source": [
    "Build a simple model. The model should accept an extracted feature vector and return a vector of class logits (or probabilities). Model should only have a couple (or even 1) layer with weights."
   ]
  },
  {
   "cell_type": "code",
   "execution_count": 191,
   "id": "4522f1a0-1555-4dcd-9117-3e975d6f781b",
   "metadata": {},
   "outputs": [],
   "source": [
    "inputs = tf.keras.layers.Input(768, name='input', dtype=tf.int32)\n",
    "rate = tf.keras.layers.Dense(1, name='prediction', activation=tf.exp)(inputs)\n",
    "p_y = tfp.layers.DistributionLambda(tfp.distributions.Poisson)(rate)\n",
    "model = tf.keras.Model(inputs=inputs, outputs=p_y, name='MyModel')\n",
    "\n",
    "def NLL(y_true, y_hat):\n",
    "    return -y_hat.log_prob(y_true)"
   ]
  },
  {
   "cell_type": "markdown",
   "id": "a5cacc4e-9876-40ff-8cd0-f1a4bfbc5c1a",
   "metadata": {},
   "source": [
    "Compile the model. Choose loss and metrics."
   ]
  },
  {
   "cell_type": "code",
   "execution_count": 192,
   "id": "ad74527b-c793-40da-af8e-66172db170f1",
   "metadata": {},
   "outputs": [],
   "source": [
    "model.compile(loss=NLL, optimizer=tf.keras.optimizers.Adam(learning_rate=0.01), metrics=tf.keras.metrics.Poisson())"
   ]
  },
  {
   "cell_type": "code",
   "execution_count": 186,
   "metadata": {},
   "outputs": [
    {
     "name": "stdout",
     "output_type": "stream",
     "text": [
      "Model: \"MyModel\"\n",
      "_________________________________________________________________\n",
      " Layer (type)                Output Shape              Param #   \n",
      "=================================================================\n",
      " input (InputLayer)          [(None, 768)]             0         \n",
      "                                                                 \n",
      " prediction (Dense)          (None, 1)                 769       \n",
      "                                                                 \n",
      " distribution_lambda_33 (Di  ((None, 1),               0         \n",
      " stributionLambda)            (None, 1))                         \n",
      "                                                                 \n",
      "=================================================================\n",
      "Total params: 769 (3.00 KB)\n",
      "Trainable params: 769 (3.00 KB)\n",
      "Non-trainable params: 0 (0.00 Byte)\n",
      "_________________________________________________________________\n",
      "_________________________________________________________________\n",
      " Layer (type)                Output Shape              Param #   \n",
      "=================================================================\n",
      " input (InputLayer)          [(None, 768)]             0         \n",
      "                                                                 \n",
      " prediction (Dense)          (None, 1)                 769       \n",
      "                                                                 \n",
      " distribution_lambda_33 (Di  ((None, 1),               0         \n",
      " stributionLambda)            (None, 1))                         \n",
      "                                                                 \n",
      "=================================================================\n",
      "Total params: 769 (3.00 KB)\n",
      "Trainable params: 769 (3.00 KB)\n",
      "Non-trainable params: 0 (0.00 Byte)\n",
      "_________________________________________________________________\n"
     ]
    }
   ],
   "source": [
    "model.summary()"
   ]
  },
  {
   "cell_type": "markdown",
   "id": "3e08006d-be0a-4828-aca9-a9f37218b8de",
   "metadata": {
    "jp-MarkdownHeadingCollapsed": true
   },
   "source": [
    "# Train the model"
   ]
  },
  {
   "cell_type": "code",
   "execution_count": 194,
   "id": "6a30787b-7ac4-4dd3-9ea5-62c94e9aa628",
   "metadata": {},
   "outputs": [
    {
     "name": "stdout",
     "output_type": "stream",
     "text": [
      "Epoch 1/5\n",
      "844/844 [==============================] - 21s 24ms/step - loss: 1.8536 - poisson: 0.3793 - val_loss: 1.8428 - val_poisson: 0.2348\n",
      "Epoch 2/5\n",
      "844/844 [==============================] - 20s 24ms/step - loss: 1.8532 - poisson: 0.3996 - val_loss: 1.8426 - val_poisson: 0.2081\n",
      "Epoch 3/5\n",
      "844/844 [==============================] - 21s 24ms/step - loss: 1.8530 - poisson: 0.3817 - val_loss: 1.8424 - val_poisson: 0.2196\n",
      "Epoch 4/5\n",
      "844/844 [==============================] - 21s 25ms/step - loss: 1.8528 - poisson: 0.3944 - val_loss: 1.8422 - val_poisson: 0.2240\n",
      "Epoch 5/5\n",
      "844/844 [==============================] - 20s 24ms/step - loss: 1.8527 - poisson: 0.3775 - val_loss: 1.8422 - val_poisson: 0.2250\n"
     ]
    }
   ],
   "source": [
    "hist_p = model.fit(train_dataset, validation_data=test_dataset, epochs=5)"
   ]
  },
  {
   "cell_type": "code",
   "execution_count": 201,
   "metadata": {},
   "outputs": [
    {
     "data": {
      "image/png": "[encoded data removed]",
      "text/plain": [
       "<Figure size 640x480 with 1 Axes>"
      ]
     },
     "metadata": {},
     "output_type": "display_data"
    }
   ],
   "source": [
    "plt.plot(hist_p.history['loss'])\n",
    "plt.plot(hist_p.history['val_loss'])\n",
    "plt.legend(['loss', 'val_loss'])\n",
    "plt.xlabel('Epochs')\n",
    "plt.show()"
   ]
  },
  {
   "cell_type": "markdown",
   "id": "3980f062-220a-4a11-b9f5-3b0e41804533",
   "metadata": {
    "jp-MarkdownHeadingCollapsed": true
   },
   "source": [
    "# Evaluation"
   ]
  },
  {
   "cell_type": "markdown",
   "id": "4b6008a2-9882-44f2-946c-23827aa5fa49",
   "metadata": {},
   "source": [
    "Evalute the model on test data."
   ]
  },
  {
   "cell_type": "code",
   "execution_count": 276,
   "id": "1b4ddf9e-5710-4c7f-ac58-4d94742c0d14",
   "metadata": {},
   "outputs": [
    {
     "name": "stdout",
     "output_type": "stream",
     "text": [
      "282/282 [==============================] - 5s 19ms/step - loss: 1.8422 - poisson: 0.2110\n"
     ]
    },
    {
     "data": {
      "text/plain": [
       "[1.842154622077942, 0.21096095442771912]"
      ]
     },
     "execution_count": 276,
     "metadata": {},
     "output_type": "execute_result"
    }
   ],
   "source": [
    "model.evaluate(test_dataset)"
   ]
  },
  {
   "cell_type": "code",
   "execution_count": 195,
   "metadata": {},
   "outputs": [
    {
     "name": "stdout",
     "output_type": "stream",
     "text": [
      "2251/2251 [==============================] - 31s 14ms/step\n"
     ]
    },
    {
     "data": {
      "text/plain": [
       "array([    0,     1,     2, ..., 72014, 72015, 72016])"
      ]
     },
     "execution_count": 195,
     "metadata": {},
     "output_type": "execute_result"
    }
   ],
   "source": [
    "np.where(model.predict(X_test) <=5)[0]"
   ]
  },
  {
   "cell_type": "markdown",
   "id": "c96f4ae8-6b6c-4c4d-94dc-be8062b7e982",
   "metadata": {},
   "source": [
    "Plot confusion matrix."
   ]
  },
  {
   "cell_type": "code",
   "execution_count": 200,
   "id": "b092eae2-5f9a-42cc-ba04-ae9b9f67df7e",
   "metadata": {},
   "outputs": [
    {
     "name": "stdout",
     "output_type": "stream",
     "text": [
      "2251/2251 [==============================] - 32s 14ms/step\n"
     ]
    },
    {
     "data": {
      "text/plain": [
       "<sklearn.metrics._plot.confusion_matrix.ConfusionMatrixDisplay at 0x7f40797ec4f0>"
      ]
     },
     "execution_count": 200,
     "metadata": {},
     "output_type": "execute_result"
    },
    {
     "data": {
      "image/png": "[encoded data removed]",
      "text/plain": [
       "<Figure size 640x480 with 2 Axes>"
      ]
     },
     "metadata": {},
     "output_type": "display_data"
    }
   ],
   "source": [
    "pred = model.predict(X_test)\n",
    "pred_idx = np.where((pred > 0) & (pred <= 5))[0]\n",
    "\n",
    "sklearn.metrics.ConfusionMatrixDisplay.from_predictions(y_test[pred_idx], pred[pred_idx])"
   ]
  },
  {
   "cell_type": "markdown",
   "id": "6997d559-de7f-4e67-96f1-85df047dcbb7",
   "metadata": {},
   "source": [
    "Write a function to classify a piece of text."
   ]
  },
  {
   "cell_type": "code",
   "execution_count": 204,
   "id": "21a748d8-b5a2-4f90-a3d8-ee36d69d34fb",
   "metadata": {},
   "outputs": [],
   "source": [
    "def classify_text(text: str) -> int:\n",
    "    x = tf.keras.preprocessing.sequence.pad_sequences([tokenizer(text)['input_ids']], maxlen=128, truncating='post', padding='post', value=tokenizer.pad_token_id)\n",
    "    feature = tf.math.reduce_mean(backbone(x).last_hidden_state, axis=1)\n",
    "\n",
    "    pred = model.predict(feature)\n",
    "    \n",
    "    return int(pred[0][0])"
   ]
  },
  {
   "cell_type": "markdown",
   "id": "8f2043ad-8f1b-4c17-8f11-23487f66db5f",
   "metadata": {},
   "source": [
    "Evaluate the model on text not present in training and test data (come up with the text yourself). Try to get an input for each class."
   ]
  },
  {
   "cell_type": "code",
   "execution_count": 282,
   "id": "b27c5386-cc1b-4040-a5b7-cb8d26965fd4",
   "metadata": {},
   "outputs": [
    {
     "name": "stdout",
     "output_type": "stream",
     "text": [
      "1/1 [==============================] - 0s 15ms/step\n"
     ]
    },
    {
     "data": {
      "text/plain": [
       "2"
      ]
     },
     "execution_count": 282,
     "metadata": {},
     "output_type": "execute_result"
    }
   ],
   "source": [
    "classify_text('very bad app. plz delet this')"
   ]
  },
  {
   "cell_type": "markdown",
   "id": "dd49c775-eded-4a49-b7f4-9903185a7b9d",
   "metadata": {
    "jp-MarkdownHeadingCollapsed": true
   },
   "source": [
    "# Bonus"
   ]
  },
  {
   "cell_type": "markdown",
   "id": "726c617b-7110-4761-9806-975d5f84bf41",
   "metadata": {},
   "source": [
    "Write a function that computes word impact on text label. "
   ]
  },
  {
   "cell_type": "code",
   "execution_count": 237,
   "id": "01a46658-8770-4d53-94ec-b7651dbde221",
   "metadata": {},
   "outputs": [],
   "source": [
    "def get_words_impact(text: str) -> list[tuple[str, int]]:\n",
    "    res = []\n",
    "    \n",
    "    for word in text.split():\n",
    "        res.append((word, classify_text(word)))\n",
    "\n",
    "    return res"
   ]
  },
  {
   "cell_type": "markdown",
   "id": "1c6dbd69-ea3c-41df-943c-16a379384b16",
   "metadata": {},
   "source": [
    "Try to find out words that make text have a specific label."
   ]
  },
  {
   "cell_type": "code",
   "execution_count": 289,
   "id": "f5bbbaf8-68f6-4aa1-af37-f29b1edae464",
   "metadata": {},
   "outputs": [
    {
     "name": "stdout",
     "output_type": "stream",
     "text": [
      "1/1 [==============================] - 0s 16ms/step\n",
      "1/1 [==============================] - 0s 15ms/step\n",
      "1/1 [==============================] - 0s 17ms/step\n",
      "1/1 [==============================] - 0s 15ms/step\n",
      "1/1 [==============================] - 0s 15ms/step\n",
      "1/1 [==============================] - 0s 18ms/step\n"
     ]
    },
    {
     "data": {
      "text/plain": [
       "[('very', 3), ('bad', 1), ('app.', 4), ('plz', 2), ('delet', 1), ('this', 4)]"
      ]
     },
     "execution_count": 289,
     "metadata": {},
     "output_type": "execute_result"
    }
   ],
   "source": [
    "get_words_impact('very bad app. plz delet this')"
   ]
  }
 ],
 "metadata": {
  "kernelspec": {
   "display_name": "Python 3 (ipykernel)",
   "language": "python",
   "name": "python3"
  },
  "language_info": {
   "codemirror_mode": {
    "name": "ipython",
    "version": 3
   },
   "file_extension": ".py",
   "mimetype": "text/x-python",
   "name": "python",
   "nbconvert_exporter": "python",
   "pygments_lexer": "ipython3",
   "version": "3.10.12"
  }
 },
 "nbformat": 4,
 "nbformat_minor": 5
}
